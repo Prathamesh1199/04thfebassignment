{
 "cells": [
  {
   "cell_type": "code",
   "execution_count": null,
   "id": "f66fc4e0-a46d-42b2-a0a2-7e841d791f11",
   "metadata": {},
   "outputs": [],
   "source": [
    "1: Here is a python program to sort the given list of tuples based\n",
    "    on integer value using a lambda function...\n",
    "\n",
    "\n",
    "def sort_list_of_tuples(l):\n",
    "    return sorted(l, key=lambda x: x[1])\n",
    "\n",
    "l = [('Sachin Tendulkar', 34357), ('Ricky Ponting', 27483), ('Jack Kallis', 25534), ('Virat Kohli', 24936)]\n",
    "print(\"Original List:\", tup_list)\n",
    "\n",
    "sorted_tup_list = sort_list_of_tuples(l)\n",
    "print(\"Sorted List:\",   sorted_tup_list )\n",
    "\n",
    "output:\n",
    "\n",
    "Original List: [('Sachin Tendulkar', 34357), ('Ricky Ponting', 27483),\n",
    "                ('Jack Kallis', 25534), ('Virat Kohli', 24936)]\n",
    "\n",
    "Sorted List: [('Virat Kohli', 24936), ('Jack Kallis', 25534),\n",
    "              ('Ricky Ponting', 27483), ('Sachin Tendulkar', 34357)]"
   ]
  },
  {
   "cell_type": "code",
   "execution_count": null,
   "id": "cc9f99e2-5450-4915-af71-3a52f70d54f4",
   "metadata": {},
   "outputs": [],
   "source": []
  },
  {
   "cell_type": "code",
   "execution_count": null,
   "id": "6a02bd6a-5374-4e99-a940-853bfa902f78",
   "metadata": {},
   "outputs": [],
   "source": [
    "2: from the given list\n",
    "    \n",
    "l= [1, 2, 3, 4, 5, 6, 7, 8, 9, 10]\n",
    "\n",
    "squared_numbers = list(map(lambda x: x**2, l))\n",
    "print(\"Squared Numbers=\", squared_numbers)\n",
    "\n",
    "output:\n",
    "\n",
    "Squared Numbers= [1, 4, 9, 16, 25, 36, 49, 64, 81, 100]"
   ]
  },
  {
   "cell_type": "code",
   "execution_count": null,
   "id": "c880852a-191d-4854-8229-c673a92e1db5",
   "metadata": {},
   "outputs": [],
   "source": []
  },
  {
   "cell_type": "code",
   "execution_count": null,
   "id": "6e52ae05-2539-4f4c-b95f-a04698e1082d",
   "metadata": {},
   "outputs": [],
   "source": [
    "3: A python program to convert a given list of integers \n",
    "    into a tuple of strings using the \"map\",\"lambda\" functions...\n",
    "    \n",
    "l = [1, 2, 3, 4, 5, 6, 7, 8, 9, 10]\n",
    "\n",
    "l2= tuple(map(lambda x: str(x), l))\n",
    "print(\"String Tuple=\", l2)\n",
    "\n",
    "output:\n",
    "String Tuple= ('1', '2', '3', '4', '5', '6', '7', '8', '9', '10')"
   ]
  },
  {
   "cell_type": "code",
   "execution_count": null,
   "id": "c44d3f9b-9150-4244-b645-213157f20c9d",
   "metadata": {},
   "outputs": [],
   "source": []
  },
  {
   "cell_type": "code",
   "execution_count": null,
   "id": "7a6dba20-c14e-485c-bcd5-efdb0b89e090",
   "metadata": {},
   "outputs": [],
   "source": [
    "4: A python program to compute the product of a list containing numbers\n",
    "     from 1 to 25 using the reduce function...\n",
    "    \n",
    "    \n",
    "from functools import reduce\n",
    "\n",
    "l = [x for x in range(1, 25)]\n",
    "\n",
    "product = reduce(lambda x, y: x*y,l)\n",
    "print(\"Product:\", product)\n",
    "\n",
    "\n",
    "output:\n",
    "Product: 620448401733239439360000"
   ]
  },
  {
   "cell_type": "code",
   "execution_count": null,
   "id": "3c8ba034-e105-4b9d-9f93-cac7aaedb192",
   "metadata": {},
   "outputs": [],
   "source": []
  },
  {
   "cell_type": "code",
   "execution_count": null,
   "id": "0a76cb25-5205-47cb-9132-6edbd1d2f73e",
   "metadata": {},
   "outputs": [],
   "source": [
    "5: A python program to filter the numbers in a given list,\n",
    "that are divisible by 2 and 3 using the filter function....\n",
    "\n",
    "l = [2, 3, 6, 9, 27, 60, 90, 120, 55, 46]\n",
    "l1 = list(filter(lambda x: x%2 == 0 and x%3 == 0, l))\n",
    "print(\"Numbers divisible by 2 and 3 = \", l1)\n",
    "\n",
    "output:\n",
    "    \n",
    "Numbers divisible by 2 and 3 = [6, 60, 90, 120]"
   ]
  },
  {
   "cell_type": "code",
   "execution_count": null,
   "id": "58707058-70c3-4f63-9856-698d6afc56fb",
   "metadata": {},
   "outputs": [],
   "source": []
  },
  {
   "cell_type": "code",
   "execution_count": null,
   "id": "d5b00024-fe2b-42c9-9391-35c026e68f31",
   "metadata": {},
   "outputs": [],
   "source": [
    "6: A python program to find palindromes in the given list of strings\n",
    "   using the lambda and filter functions...\n",
    "    \n",
    "l = ['python', 'php', 'aba', 'radar', 'level']\n",
    "\n",
    "l2 = list(filter(lambda x: x == x[::-1], l))\n",
    "print(\"Palindromes=\", l2)\n",
    "\n",
    "output:\n",
    "\n",
    "Palindromes= ['php', 'aba', 'radar', 'level']"
   ]
  },
  {
   "cell_type": "code",
   "execution_count": null,
   "id": "1d5b03cf-6c82-45fe-a373-040654d13c20",
   "metadata": {},
   "outputs": [],
   "source": []
  }
 ],
 "metadata": {
  "kernelspec": {
   "display_name": "Python 3 (ipykernel)",
   "language": "python",
   "name": "python3"
  },
  "language_info": {
   "codemirror_mode": {
    "name": "ipython",
    "version": 3
   },
   "file_extension": ".py",
   "mimetype": "text/x-python",
   "name": "python",
   "nbconvert_exporter": "python",
   "pygments_lexer": "ipython3",
   "version": "3.10.8"
  }
 },
 "nbformat": 4,
 "nbformat_minor": 5
}
